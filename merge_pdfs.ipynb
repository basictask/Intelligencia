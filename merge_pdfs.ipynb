{
 "cells": [
  {
   "cell_type": "code",
   "execution_count": 1,
   "metadata": {},
   "outputs": [],
   "source": [
    "import os\n",
    "import re\n",
    "import fitz\n",
    "\n",
    "root_folder = '.'\n",
    "output_filename = 'intelligencia_merged.pdf'\n",
    "\n",
    "if os.path.isfile(output_filename):\n",
    "    os.remove(output_filename)\n",
    "    print(f'Removed {output_filename}')"
   ]
  },
  {
   "cell_type": "code",
   "execution_count": 2,
   "metadata": {},
   "outputs": [
    {
     "name": "stdout",
     "output_type": "stream",
     "text": [
      "./0_utmutato/doc/0_utmutato.pdf\n",
      "./11_transformer/doc/11_transformer.pdf\n",
      "./2_reinforcement_learning/doc/2_reinforcement_learning.pdf\n",
      "./6_dql/doc/6_dql.pdf\n",
      "./7_dl/doc/7_dl.pdf\n",
      "./4_mc_td/doc/4_mc_td.pdf\n",
      "./1_git_dok/doc/1_git_dok.pdf\n",
      "./3_solving_mdp/doc/3_solving_mdp.pdf\n",
      "./8_od/doc/8_od.pdf\n",
      "./9_instance/doc/9_instance.pdf\n",
      "./5_ql/doc/5_ql.pdf\n",
      "./10_recurrent/doc/10_recurrent.pdf\n"
     ]
    }
   ],
   "source": [
    "# Regular expression to match directories in {number}_{text}/doc format\n",
    "dir_pattern = re.compile(r'^\\./(\\d{1,2})_([^/]+)/doc/(\\d+)_(.+)\\.pdf$')\n",
    "\n",
    "# List to store (number, path) tuples\n",
    "numbered_paths = []\n",
    "\n",
    "# Walk through the directory\n",
    "for root, dirs, files in os.walk(root_folder):\n",
    "    for file in files:\n",
    "        # Full path of the file\n",
    "        full_path = os.path.join(root, file)\n",
    "        match = dir_pattern.match(full_path)\n",
    "        if match:\n",
    "            numbered_paths.append((int(match.group(1)), full_path))\n",
    "            print(full_path)\n",
    "\n",
    "# Sort the directories based on the number\n",
    "numbered_paths.sort()"
   ]
  },
  {
   "cell_type": "code",
   "execution_count": 3,
   "metadata": {},
   "outputs": [
    {
     "data": {
      "text/plain": [
       "[(0, './0_utmutato/doc/0_utmutato.pdf'),\n",
       " (1, './1_git_dok/doc/1_git_dok.pdf'),\n",
       " (2, './2_reinforcement_learning/doc/2_reinforcement_learning.pdf'),\n",
       " (3, './3_solving_mdp/doc/3_solving_mdp.pdf'),\n",
       " (4, './4_mc_td/doc/4_mc_td.pdf'),\n",
       " (5, './5_ql/doc/5_ql.pdf'),\n",
       " (6, './6_dql/doc/6_dql.pdf'),\n",
       " (7, './7_dl/doc/7_dl.pdf'),\n",
       " (8, './8_od/doc/8_od.pdf'),\n",
       " (9, './9_instance/doc/9_instance.pdf'),\n",
       " (10, './10_recurrent/doc/10_recurrent.pdf'),\n",
       " (11, './11_transformer/doc/11_transformer.pdf')]"
      ]
     },
     "execution_count": 3,
     "metadata": {},
     "output_type": "execute_result"
    }
   ],
   "source": [
    "numbered_paths"
   ]
  },
  {
   "cell_type": "code",
   "execution_count": 4,
   "metadata": {},
   "outputs": [
    {
     "name": "stdout",
     "output_type": "stream",
     "text": [
      "Output successful\n"
     ]
    }
   ],
   "source": [
    "merged_document = fitz.open()\n",
    "\n",
    "# Merge PDFs from each directory\n",
    "for _, full_path in numbered_paths:\n",
    "    with fitz.open(full_path) as pdf:\n",
    "        for page in range(len(pdf)):\n",
    "            merged_document.insert_pdf(pdf, from_page=page, to_page=page)\n",
    "\n",
    "merged_document.save(output_filename)\n",
    "merged_document.close()\n",
    "\n",
    "print('Output successful')"
   ]
  }
 ],
 "metadata": {
  "kernelspec": {
   "display_name": "base",
   "language": "python",
   "name": "python3"
  },
  "language_info": {
   "codemirror_mode": {
    "name": "ipython",
    "version": 3
   },
   "file_extension": ".py",
   "mimetype": "text/x-python",
   "name": "python",
   "nbconvert_exporter": "python",
   "pygments_lexer": "ipython3",
   "version": "3.11.5"
  }
 },
 "nbformat": 4,
 "nbformat_minor": 2
}
