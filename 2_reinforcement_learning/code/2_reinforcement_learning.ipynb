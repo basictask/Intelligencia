{
 "cells": [
  {
   "cell_type": "markdown",
   "metadata": {},
   "source": [
    "# 1. Gyakorlat: Bevezetés a megerősítéses tanulásba"
   ]
  },
  {
   "cell_type": "code",
   "execution_count": 70,
   "metadata": {},
   "outputs": [],
   "source": [
    "import numpy as np\n",
    "import seaborn as sns\n",
    "import matplotlib.pyplot as plt\n",
    "\n",
    "np.random.seed(42)"
   ]
  },
  {
   "cell_type": "markdown",
   "metadata": {},
   "source": [
    "## Markov láncok"
   ]
  },
  {
   "cell_type": "code",
   "execution_count": 71,
   "metadata": {},
   "outputs": [
    {
     "name": "stdout",
     "output_type": "stream",
     "text": [
      "Állapotok: s0 s0 s3 \n",
      "Állapotok: s0 s1 s2 s1 s2 s1 s2 s1 s2 s1 s3 \n",
      "Állapotok: s0 s1 s2 s1 s2 s1 s2 s1 s2 s1 s2 s1 s2 s1 s2 s1 s2 s1 s2 s1 s2 s1 s3 \n",
      "Állapotok: s0 s3 \n",
      "Állapotok: s0 s1 s2 s1 s2 s1 s2 s1 s2 s1 s2 s1 s2 s1 s2 s1 s3 \n",
      "Állapotok: s0 s1 s3 \n",
      "Állapotok: s0 s1 s2 s1 s2 s1 s2 s1 s2 s1 s2 s1 s2 s1 s2 s1 s2 s1 s2 s1 s2 s1 s2 s1 s2 s1 s2 s1 s2 s1 s2 s1 s2 s1 s2 s1 s2 s1 s2 s1 s2 s1 s2 s1 s2 s1 s2 s1 s2 s1 ...\n",
      "Állapotok: s0 s0 s3 \n",
      "Állapotok: s0 s0 s0 s1 s2 s1 s2 s1 s3 \n",
      "Állapotok: s0 s1 s2 s1 s2 s1 s2 s1 s2 s1 s2 s1 s2 s1 s2 s1 s2 s1 s2 s1 s2 s1 s3 \n"
     ]
    }
   ],
   "source": [
    "p_s_a = [\n",
    "    [0.7, 0.2, 0.0, 0.1],  # s0 --> [s1, s2, s3, s4]\n",
    "    [0.0, 0.0, 0.9, 0.1],  # s1 --> [s1, s2, s3, s4]\n",
    "    [0.0, 1.0, 0.0, 0.0],  # s2 --> [s1, s2, s3, s4]\n",
    "    [0.0, 0.0, 0.0, 1.0],  # s3 --> [s1, s2, s3, s4]\n",
    "]\n",
    "\n",
    "max_lepes = 50  # Max. lépésszám\n",
    "s_T = 3  # Terminális állapot\n",
    "\n",
    "def lanc_futtatasa():\n",
    "    s_t = 0\n",
    "    print(\"Állapotok:\", end=\" \")\n",
    "    for _ in range(max_lepes):\n",
    "        print(f's{s_t}', end=\" \")\n",
    "        if s_t == s_T:  # Terminális állpot esetén kilépés \n",
    "            break\n",
    "        s_t = np.random.choice(range(4), p=p_s_a[s_t])\n",
    "    else:\n",
    "        print(\"...\", end=\"\")\n",
    "    print()\n",
    "\n",
    "for _ in range(10):\n",
    "    lanc_futtatasa()"
   ]
  },
  {
   "cell_type": "markdown",
   "metadata": {},
   "source": [
    "## Markov döntési folyamatok\n",
    "Például az $s_0$ állapotban, ha az $a_0$ cselekvést választjuk, akkor $0.7$ valószínűséggel az $s_0$ állapotba kerülünk $+10$ jutalommal, $0.3$ valószínűséggel az $s_1$ állapotba kerülünk jutalom nélkül, és soha nem kerülünk az $s_2$ állapotba (tehát az átmeneti valószínűségek $[0.7, 0.3, 0.0]$, a R pedig $[+10, 0, 0]$):"
   ]
  },
  {
   "cell_type": "code",
   "execution_count": 72,
   "metadata": {},
   "outputs": [],
   "source": [
    "p_s_a = [  # Állapotátmeneti valószínűségek (környezeti dinamika) [s, a, s']\n",
    "        [[0.7, 0.3, 0.0],  # s0 --> a0 --> [s0, s1, s2]\n",
    "         [1.0, 0.0, 0.0],  # s0 --> a1 --> [s0, s1, s2]\n",
    "         [0.8, 0.2, 0.0]], # s0 --> a2 --> [s0, s1, s2]\n",
    "        [[0.0, 1.0, 0.0],  # s1 --> a0 --> [s0, s1, s2]\n",
    "         None,             # s1 --> a1 --> [s0, s1, s2]\n",
    "         [0.0, 0.0, 1.0]], # s1 --> a2 --> [s0, s1, s2]\n",
    "        [None,             # s2 --> a0 --> [s0, s1, s2]\n",
    "         [0.8, 0.1, 0.1],  # s2 --> a1 --> [s0, s1, s2]\n",
    "         None]             # s2 --> a2 --> [s0, s1, s2]\n",
    "]\n",
    "\n",
    "R = [  # Jutalmak [s, a, s']\n",
    "        [[+10, 0, 0],   # s0 --> a0 --> [r0, r1, r2] \n",
    "         [0, 0, 0],     # s0 --> a1 --> [r0, r1, r2] \n",
    "         [0, 0, 0]],    # s0 --> a2 --> [r0, r1, r2] \n",
    "        [[0, 0, 0],     # s1 --> a0 --> [r0, r1, r2] \n",
    "         [0, 0, 0],     # s1 --> a1 --> [r0, r1, r2] \n",
    "         [0, 0, -50]],  # s1 --> a2 --> [r0, r1, r2] \n",
    "        [[0, 0, 0],     # s2 --> a0 --> [r0, r1, r2] \n",
    "         [+40, 0, 0],   # s2 --> a1 --> [r0, r1, r2] \n",
    "         [0, 0, 0]],    # s2 --> a2 --> [r0, r1, r2] \n",
    "]\n",
    "\n",
    "A = [  # Lehetséges cselekvések halmaza\n",
    "        [0, 1, 2],  #  s0 --> s0, s1, s2\n",
    "        [0, 2],     #  s1 --> s0, s2\n",
    "        [1]         #  s2 --> s1\n",
    "]"
   ]
  },
  {
   "cell_type": "markdown",
   "metadata": {},
   "source": [
    "# $V(s)$ állapot-érték\n",
    "$V_{\\pi}(s)=\\sum_{a}\\pi(a|s)\\sum_{s',r}p\\left(s',r|s,a\\right)\\left[r+\\gamma v_{\\pi}\\left(s'\\right)\\right]$\n",
    "$\\;minden\\;s\\in S-re$"
   ]
  },
  {
   "cell_type": "code",
   "execution_count": 73,
   "metadata": {},
   "outputs": [
    {
     "name": "stdout",
     "output_type": "stream",
     "text": [
      "Állapot-érték függvény: \n",
      "[18.91891892  0.         50.13365013]\n"
     ]
    }
   ],
   "source": [
    "gamma = 0.90  # Discount factor\n",
    "max_lepes = 100  # Iterációk maximális száma\n",
    "\n",
    "# V(s) inicializálása\n",
    "n_s = len(p_s_a)  # Állapotok száma\n",
    "V = np.zeros(n_s)\n",
    "\n",
    "for _ in range(max_lepes):\n",
    "    V_prev = V.copy()\n",
    "    for s in range(n_s):\n",
    "        if A[s] is not None:\n",
    "            V[s] = np.max([np.sum([p_s_a[s][a][sp] * (R[s][a][sp] + gamma * V_prev[sp]) for sp in range(n_s)]) for a in A[s]])\n",
    "\n",
    "print(\"Állapot-érték függvény: \")\n",
    "print(V)"
   ]
  },
  {
   "cell_type": "markdown",
   "metadata": {},
   "source": [
    "Ez alapján elmondható, hogy a legjövedelmezőbb állapot az $a_2$."
   ]
  },
  {
   "cell_type": "markdown",
   "metadata": {},
   "source": [
    "## $Q(s,a)$ állapot-cselekvés minőség\n",
    "$Q_{\\pi}(s,a)=\\sum_{s',r}p\\left(s',r|s,a\\right)\\left[r+\\gamma v_{\\pi}\\left(s'\\right)\\right]$"
   ]
  },
  {
   "cell_type": "code",
   "execution_count": 74,
   "metadata": {},
   "outputs": [
    {
     "name": "stdout",
     "output_type": "stream",
     "text": [
      "Állapot-cselekvés minőség függvény:\n",
      "[[18.91891892 17.02702703 13.62162162]\n",
      " [ 0.                -inf -4.87971488]\n",
      " [       -inf 50.13365013        -inf]] \n",
      "\n"
     ]
    }
   ],
   "source": [
    "gamma = 0.90  # Diszkont ráta: próbáljuk ki különbözp diszkont rátákkal is!\n",
    "\n",
    "# Q(s,a) inicializálása\n",
    "Q = np.full((3, 3), -np.inf)  # -np.inf a lehetetlen cselekvésekre\n",
    "for s, a in enumerate(A):\n",
    "    Q[s, a] = 0.0   # Minden lehetséges cselekvésre\n",
    "\n",
    "hist = [] \n",
    "for _ in range(max_lepes):\n",
    "    Q_prev = Q.copy()\n",
    "    hist.append(Q_prev)\n",
    "    for s in range(n_s):  # Iteráció minden állapoton\n",
    "        for a in A[s]:  # Iteráció minden cselekvésen\n",
    "            Q[s, a] = np.sum([p_s_a[s][a][sp] * (R[s][a][sp] + gamma * np.max(Q_prev[sp])) for sp in range(3)])\n",
    "\n",
    "hist = np.array(hist)\n",
    "print('Állapot-cselekvés minőség függvény:')\n",
    "print(Q, '\\n')"
   ]
  },
  {
   "cell_type": "markdown",
   "metadata": {},
   "source": [
    "A MDP esetében az optimális politika, amikor $0.90$-es diszkonttényezőt használ az ügynök az, hogy az $s_0$ állapotban az $a_0$ cselekvést választja, az $s_1$ állapotban az $a_0$ cselekvést választja, és végül az $s_2$ állapotban az $a_1$ cselekvést (az egyetlen lehetséges cselekvést)."
   ]
  },
  {
   "cell_type": "markdown",
   "metadata": {},
   "source": [
    "## Mohó ügynök\n",
    "$a_{t}=\\underset{a}{argmax}\\:Q_{t}(a)$  \n",
    "A $Q(s,a)$ megadja minden állapothoz tartozóan az ügynök számára leginkább jövedelmező cselekvést. Ez elég arra, hogy fel lehessen állítani egy politikát: $\\pi\\in{S\\rightarrow}A$"
   ]
  },
  {
   "cell_type": "code",
   "execution_count": 75,
   "metadata": {},
   "outputs": [
    {
     "name": "stdout",
     "output_type": "stream",
     "text": [
      "20\n"
     ]
    }
   ],
   "source": [
    "def moho_ugynok(s, Q):\n",
    "    legjobb_A = np.argmax(Q, axis=1)\n",
    "    return legjobb_A[s]\n",
    "\n",
    "max_lepes = 100\n",
    "\n",
    "r_sum = 0\n",
    "s = 0\n",
    "for i in range(max_lepes):\n",
    "    a = moho_ugynok(s, Q)\n",
    "    sp = np.random.choice(range(n_s), p=p_s_a[s][a])\n",
    "    r = R[s][a][sp]\n",
    "    # print(f'i: {i}, s: {s}, a: {a}, r: {r}, s\\': {sp}')\n",
    "    s = sp\n",
    "    r_sum += r\n",
    "\n",
    "print(r_sum)"
   ]
  }
 ],
 "metadata": {
  "kernelspec": {
   "display_name": "Python 3",
   "language": "python",
   "name": "python3"
  },
  "language_info": {
   "codemirror_mode": {
    "name": "ipython",
    "version": 3
   },
   "file_extension": ".py",
   "mimetype": "text/x-python",
   "name": "python",
   "nbconvert_exporter": "python",
   "pygments_lexer": "ipython3",
   "version": "3.11.4"
  },
  "orig_nbformat": 4
 },
 "nbformat": 4,
 "nbformat_minor": 2
}
