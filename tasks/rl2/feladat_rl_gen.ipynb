{
 "cells": [
  {
   "cell_type": "markdown",
   "metadata": {},
   "source": [
    "# Feladatok hallgatókhoz rendelése"
   ]
  },
  {
   "cell_type": "code",
   "execution_count": 1,
   "metadata": {},
   "outputs": [],
   "source": [
    "import numpy as np\n",
    "\n",
    "hallgatok = [\n",
    "    'AJNHYP',\n",
    "    'AT8AAQ',\n",
    "    'BVKIXY',\n",
    "    'DK3428',\n",
    "    'DXXWXF',\n",
    "    'EOG3NA',\n",
    "    'GA4UYX',\n",
    "    'GMFSM4',\n",
    "    'HF4BFG',\n",
    "    'HZNWDR',\n",
    "    'IJSONJ',\n",
    "    'IOWM0D',\n",
    "    'IT8NLQ',\n",
    "    'JCH8JM',\n",
    "    'KLYL6J',\n",
    "    'KW5ZCO',\n",
    "    'NKQQ8T',\n",
    "    'NLZ44O',\n",
    "    'REOQAN',\n",
    "    'TOXRN2',\n",
    "    'WAIL05',\n",
    "    'WN1ZU6',\n",
    "    'ZGJN30'\n",
    "]\n",
    "\n",
    "feladatok = [\n",
    "    'A',\n",
    "    'B'\n",
    "]"
   ]
  },
  {
   "cell_type": "code",
   "execution_count": 3,
   "metadata": {},
   "outputs": [
    {
     "name": "stdout",
     "output_type": "stream",
     "text": [
      "neptun;feladat;diff\n",
      "AJNHYP: B\n",
      "AT8AAQ: B\n",
      "BVKIXY: B\n",
      "DK3428: A\n",
      "DXXWXF: B\n",
      "EOG3NA: B\n",
      "GA4UYX: A\n",
      "GMFSM4: B\n",
      "HF4BFG: B\n",
      "HZNWDR: A\n",
      "IJSONJ: A\n",
      "IOWM0D: A\n",
      "IT8NLQ: B\n",
      "JCH8JM: B\n",
      "KLYL6J: B\n",
      "KW5ZCO: A\n",
      "NKQQ8T: B\n",
      "NLZ44O: A\n",
      "REOQAN: B\n",
      "TOXRN2: B\n",
      "WAIL05: B\n",
      "WN1ZU6: B\n",
      "ZGJN30: A\n",
      "\n",
      "Successful file dump.\n"
     ]
    }
   ],
   "source": [
    "dump = True\n",
    "result = \"neptun;feladat;diff\\n\"\n",
    "\n",
    "for h in hallgatok: \n",
    "    task = np.random.choice(feladatok)\n",
    "    result = result + f'{h}: {task}\\n'\n",
    "\n",
    "print(result)\n",
    "\n",
    "if dump: \n",
    "    with open('feladatok.txt', 'w') as out:\n",
    "        out.write(result.replace(': ', ';'))\n",
    "    print('Successful file dump.')"
   ]
  }
 ],
 "metadata": {
  "kernelspec": {
   "display_name": "bge",
   "language": "python",
   "name": "python3"
  },
  "language_info": {
   "codemirror_mode": {
    "name": "ipython",
    "version": 3
   },
   "file_extension": ".py",
   "mimetype": "text/x-python",
   "name": "python",
   "nbconvert_exporter": "python",
   "pygments_lexer": "ipython3",
   "version": "3.11.5"
  }
 },
 "nbformat": 4,
 "nbformat_minor": 2
}
