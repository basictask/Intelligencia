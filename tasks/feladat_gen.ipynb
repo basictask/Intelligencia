{
 "cells": [
  {
   "cell_type": "markdown",
   "metadata": {},
   "source": [
    "# Feladatok hallgatókhoz rendelése"
   ]
  },
  {
   "cell_type": "code",
   "execution_count": null,
   "metadata": {},
   "outputs": [],
   "source": [
    "hallgatok = [\n",
    "    'DXXWXF',\n",
    "    'KW5ZCO',\n",
    "    'NLZ44O',\n",
    "    'KLYL6J',\n",
    "    'JCH8JM',\n",
    "    'WN1ZU6',\n",
    "    'DK3428',\n",
    "    'IOWM0D',\n",
    "    'REOQAN',\n",
    "    'NKQQ8T',\n",
    "    'GMFSM4',\n",
    "    'HF4BFG',\n",
    "    'IT8NLQ',\n",
    "    'ZGJN30',\n",
    "    'EOG3NA',\n",
    "    'GA4UYX',\n",
    "    'AJNHYP',\n",
    "    'TOXRN2',\n",
    "    'WAIL05',\n",
    "    'IJSONJ',\n",
    "    'HZNWDR',\n",
    "    'AT8AAQ',\n",
    "    'BVKIXY',\n",
    "]\n",
    "\n",
    "feladatok = [\n",
    "    '1.1',\n",
    "    '1.2',\n",
    "    '2.1',\n",
    "    '3.1',\n",
    "    '3.2',\n",
    "    '4.1',\n",
    "    '5.1',\n",
    "    '5.2',\n",
    "    '6.1',\n",
    "    '6.2'\n",
    "]"
   ]
  }
 ],
 "metadata": {
  "kernelspec": {
   "display_name": "bge",
   "language": "python",
   "name": "python3"
  },
  "language_info": {
   "codemirror_mode": {
    "name": "ipython",
    "version": 3
   },
   "file_extension": ".py",
   "mimetype": "text/x-python",
   "name": "python",
   "nbconvert_exporter": "python",
   "pygments_lexer": "ipython3",
   "version": "3.9.12"
  }
 },
 "nbformat": 4,
 "nbformat_minor": 2
}
