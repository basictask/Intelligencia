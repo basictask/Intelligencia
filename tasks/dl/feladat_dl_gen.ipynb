{
 "cells": [
  {
   "cell_type": "markdown",
   "metadata": {},
   "source": [
    "# Feladatok hallgatókhoz rendelése"
   ]
  },
  {
   "cell_type": "code",
   "execution_count": 1,
   "metadata": {},
   "outputs": [],
   "source": [
    "import pandas as pd\n",
    "import numpy as np"
   ]
  },
  {
   "cell_type": "markdown",
   "metadata": {},
   "source": [
    "## Eredeti feladatok betöltése és feldolgozása"
   ]
  },
  {
   "cell_type": "code",
   "execution_count": 2,
   "metadata": {},
   "outputs": [
    {
     "data": {
      "text/plain": [
       "{'AJNHYP': 3,\n",
       " 'AT8AAQ': 2,\n",
       " 'BVKIXY': 2,\n",
       " 'DK3428': 3,\n",
       " 'DXXWXF': 2,\n",
       " 'EOG3NA': 2,\n",
       " 'GA4UYX': 2,\n",
       " 'GMFSM4': 3,\n",
       " 'HF4BFG': 2,\n",
       " 'HZNWDR': 2,\n",
       " 'IJSONJ': 1,\n",
       " 'IOWM0D': 1,\n",
       " 'IT8NLQ': 3,\n",
       " 'JCH8JM': 3,\n",
       " 'KLYL6J': 3,\n",
       " 'KW5ZCO': 3,\n",
       " 'NKQQ8T': 2,\n",
       " 'NLZ44O': 2,\n",
       " 'REOQAN': 2,\n",
       " 'TOXRN2': 3,\n",
       " 'WAIL05': 1,\n",
       " 'WN1ZU6': 2,\n",
       " 'ZGJN30': 2}"
      ]
     },
     "execution_count": 2,
     "metadata": {},
     "output_type": "execute_result"
    }
   ],
   "source": [
    "tasks_original = pd.read_csv('./feladatok.txt', sep=';')\n",
    "tasks_original.drop('feladat', axis=1, inplace=True)\n",
    "tasks_original.set_index('neptun', inplace=True)\n",
    "tasks_original = tasks_original.to_dict()['diff']\n",
    "tasks_original"
   ]
  },
  {
   "cell_type": "markdown",
   "metadata": {},
   "source": [
    "## Hallgatók betöltése"
   ]
  },
  {
   "cell_type": "code",
   "execution_count": 3,
   "metadata": {},
   "outputs": [],
   "source": [
    "hallgatok = [\n",
    "    'AJNHYP',\n",
    "    'AT8AAQ',\n",
    "    'BVKIXY',\n",
    "    'DK3428',\n",
    "    'DXXWXF',\n",
    "    'EOG3NA',\n",
    "    'GA4UYX',\n",
    "    'GMFSM4',\n",
    "    'HF4BFG',\n",
    "    'HZNWDR',\n",
    "    'IJSONJ',\n",
    "    'IOWM0D',\n",
    "    'IT8NLQ',\n",
    "    'JCH8JM',\n",
    "    'KLYL6J',\n",
    "    'KW5ZCO',\n",
    "    'NKQQ8T',\n",
    "    'NLZ44O',\n",
    "    'REOQAN',\n",
    "    'TOXRN2',\n",
    "    'WAIL05',\n",
    "    'WN1ZU6',\n",
    "    'ZGJN30'\n",
    "]\n",
    "\n",
    "feladatok = pd.DataFrame({\n",
    "    'task': [1,2,3,4,5,6],\n",
    "    'diff': [1,1,2,2,2,3],\n",
    "})"
   ]
  },
  {
   "cell_type": "markdown",
   "metadata": {},
   "source": [
    "## Feladatok hallgatókhoz rendelése"
   ]
  },
  {
   "cell_type": "code",
   "execution_count": 4,
   "metadata": {},
   "outputs": [
    {
     "name": "stdout",
     "output_type": "stream",
     "text": [
      "neptun;feladat;prev_diff;curr_diff\n",
      "AJNHYP;1;3;1\n",
      "AT8AAQ;3;2;2\n",
      "BVKIXY;4;2;2\n",
      "DK3428;1;3;1\n",
      "DXXWXF;5;2;2\n",
      "EOG3NA;4;2;2\n",
      "GA4UYX;4;2;2\n",
      "GMFSM4;2;3;1\n",
      "HF4BFG;3;2;2\n",
      "HZNWDR;3;2;2\n",
      "IJSONJ;6;1;3\n",
      "IOWM0D;6;1;3\n",
      "IT8NLQ;1;3;1\n",
      "JCH8JM;2;3;1\n",
      "KLYL6J;2;3;1\n",
      "KW5ZCO;1;3;1\n",
      "NKQQ8T;3;2;2\n",
      "NLZ44O;3;2;2\n",
      "REOQAN;4;2;2\n",
      "TOXRN2;2;3;1\n",
      "WAIL05;6;1;3\n",
      "WN1ZU6;4;2;2\n",
      "ZGJN30;4;2;2\n",
      "\n",
      "Successful file dump.\n"
     ]
    }
   ],
   "source": [
    "dump = True \n",
    "result = \"neptun;feladat;prev_diff;curr_diff\\n\"\n",
    "for h in hallgatok: \n",
    "    prev_diff = tasks_original[h]\n",
    "    curr_diff = 4 - prev_diff\n",
    "    current_tasks = feladatok[feladatok['diff'] == curr_diff]['task']\n",
    "    task = np.random.choice(current_tasks)\n",
    "    result = result + f'{h};{task};{prev_diff};{curr_diff}\\n'\n",
    "\n",
    "print(result)\n",
    "\n",
    "if dump: \n",
    "    with open('feladatok_dl.txt', 'w') as out:\n",
    "        out.write(result.replace(': ', ';'))\n",
    "    print('Successful file dump.')"
   ]
  },
  {
   "cell_type": "code",
   "execution_count": null,
   "metadata": {},
   "outputs": [],
   "source": []
  }
 ],
 "metadata": {
  "kernelspec": {
   "display_name": "bge",
   "language": "python",
   "name": "python3"
  },
  "language_info": {
   "codemirror_mode": {
    "name": "ipython",
    "version": 3
   },
   "file_extension": ".py",
   "mimetype": "text/x-python",
   "name": "python",
   "nbconvert_exporter": "python",
   "pygments_lexer": "ipython3",
   "version": "3.11.6"
  }
 },
 "nbformat": 4,
 "nbformat_minor": 2
}
