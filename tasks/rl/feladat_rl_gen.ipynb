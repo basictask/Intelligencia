{
 "cells": [
  {
   "cell_type": "markdown",
   "metadata": {},
   "source": [
    "# Feladatok hallgatókhoz rendelése"
   ]
  },
  {
   "cell_type": "code",
   "execution_count": null,
   "metadata": {},
   "outputs": [],
   "source": [
    "import numpy as np\n",
    "\n",
    "hallgatok = [\n",
    "    'AJNHYP',\n",
    "    'AT8AAQ',\n",
    "    'BVKIXY',\n",
    "    'DK3428',\n",
    "    'DXXWXF',\n",
    "    'EOG3NA',\n",
    "    'GA4UYX',\n",
    "    'GMFSM4',\n",
    "    'HF4BFG',\n",
    "    'HZNWDR',\n",
    "    'IJSONJ',\n",
    "    'IOWM0D',\n",
    "    'IT8NLQ',\n",
    "    'JCH8JM',\n",
    "    'KLYL6J',\n",
    "    'KW5ZCO',\n",
    "    'NKQQ8T',\n",
    "    'NLZ44O',\n",
    "    'REOQAN',\n",
    "    'TOXRN2',\n",
    "    'WAIL05',\n",
    "    'WN1ZU6',\n",
    "    'ZGJN30'\n",
    "]\n",
    "\n",
    "feladatok = [\n",
    "    '1.1;2',\n",
    "    '1.2;2',\n",
    "    '2.1;1',\n",
    "    '3.1;1',\n",
    "    '3.2;2',\n",
    "    '4.1;3',\n",
    "    '5.1;2',\n",
    "    '5.2;3',\n",
    "    '6.1;3',\n",
    "    '6.2;3'\n",
    "]"
   ]
  },
  {
   "cell_type": "code",
   "execution_count": null,
   "metadata": {},
   "outputs": [],
   "source": [
    "dump = True\n",
    "result = \"neptun;feladat;diff\\n\"\n",
    "\n",
    "for h in hallgatok: \n",
    "    task = np.random.choice(feladatok)\n",
    "    result = result + f'{h}: {task}\\n'\n",
    "\n",
    "print(result)\n",
    "\n",
    "if dump: \n",
    "    with open('feladatok.txt', 'w') as out:\n",
    "        out.write(result.replace(': ', ';'))\n",
    "    print('Successful file dump.')"
   ]
  }
 ],
 "metadata": {
  "kernelspec": {
   "display_name": "bge",
   "language": "python",
   "name": "python3"
  },
  "language_info": {
   "codemirror_mode": {
    "name": "ipython",
    "version": 3
   },
   "file_extension": ".py",
   "mimetype": "text/x-python",
   "name": "python",
   "nbconvert_exporter": "python",
   "pygments_lexer": "ipython3",
   "version": "3.11.5"
  }
 },
 "nbformat": 4,
 "nbformat_minor": 2
}
