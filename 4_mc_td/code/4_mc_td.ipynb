{
 "cells": [
  {
   "cell_type": "markdown",
   "metadata": {},
   "source": [
    "# 4. Gyakorlat: Monte Carlo és temporális különbségek"
   ]
  },
  {
   "cell_type": "code",
   "execution_count": 1,
   "metadata": {},
   "outputs": [],
   "source": [
    "import random\n",
    "import numpy as np\n",
    "import seaborn as sns\n",
    "import matplotlib.pyplot as plt\n",
    "\n",
    "seed = 11\n",
    "random.seed(seed)\n",
    "np.random.seed(seed)"
   ]
  },
  {
   "cell_type": "markdown",
   "metadata": {},
   "source": [
    "## Környezet definiálása\n",
    "A környezet egy 3 állapotos Markov döntési folyamat, sűrű jutalmakkal. Minden állapotból lehetséges eljutni az összes többibe, ezáltal egy jóval nagyobb cselekvési teret kell az ügynöknek megtanulnia. "
   ]
  },
  {
   "cell_type": "code",
   "execution_count": 2,
   "metadata": {},
   "outputs": [],
   "source": [
    "class Environment():\n",
    "    def __init__(self):\n",
    "        self.p_s_a = [  # Állapotátmeneti valószínűségek (környezeti dinamika) [s, a, s']\n",
    "            [[0.0, 0.3, 0.7, 0.0],      # s0 --> a0 --> [s0, s1, s2, s3]\n",
    "             [0.0, 0.6, 0.4, 0.0],      # s0 --> a1 --> [s0, s1, s2, s3]\n",
    "             [0.0, 1.0, 0.0, 0.0]],     # s0 --> a2 --> [s0, s1, s2, s3]\n",
    "            [[0.8, 0.0, 0.2, 0.0],      # s1 --> a0 --> [s0, s1, s2, s3]\n",
    "             [0.3, 0.0, 0.5, 0.2],      # s1 --> a1 --> [s0, s1, s2, s3]\n",
    "             [0.0, 0.0, 0.8, 0.2]],     # s1 --> a2 --> [s0, s1, s2, s3]\n",
    "            [[0.1, 0.9, 0.0, 0.0],      # s2 --> a0 --> [s0, s1, s2, s3]\n",
    "             [0.4, 0.1, 0.0, 0.5],      # s2 --> a1 --> [s0, s1, s2, s3]\n",
    "             [0.2, 0.3, 0.0, 0.5]],     # s2 --> a2 --> [s0, s1, s2, s3]\n",
    "            [[0.0, 0.0, 0.0, 0.0],      # s3 --> a0 --> [s0, s1, s2, s3]\n",
    "             [0.0, 0.0, 0.0, 0.0],      # s3 --> a1 --> [s0, s1, s2, s3]\n",
    "             [0.0, 0.0, 0.0, 0.0]],     # s3 --> a2 --> [s0, s1, s2, s3]\n",
    "        ]\n",
    "\n",
    "        self.R = [\n",
    "            [[ -5, 10,  0,  0],         # s0 --> a0 --> [r0, r1, r2, r3]\n",
    "             [  1,0.0,  0,  0],         # s0 --> a1 --> [r0, r1, r2, r3]\n",
    "             [ -3,  8,  0,  0]],        # s0 --> a2 --> [r0, r1, r2, r3]\n",
    "            [[  0, -1,  0,  0],         # s1 --> a0 --> [r0, r1, r2, r3]\n",
    "             [  3, 10, -5,  0],         # s1 --> a1 --> [r0, r1, r2, r3]\n",
    "             [  0,  0, -4,  0]],        # s1 --> a2 --> [r0, r1, r2, r3]\n",
    "            [[  3, -4,  0,  0],         # s2 --> a0 --> [r0, r1, r2, r3]\n",
    "             [ -1, 12,  5,  0],         # s2 --> a1 --> [r0, r1, r2, r3]\n",
    "             [  9,  5,  0, -3]],        # s2 --> a2 --> [r0, r1, r2, r3]\n",
    "            [[  0,  0,  0,  0],         # s3 --> a0 --> [r0, r1, r2, r3]\n",
    "             [  0,  0,  0,  0],         # s3 --> a1 --> [r0, r1, r2, r3]\n",
    "             [  0,  0,  0,  0]],        # s3 --> a2 --> [r0, r1, r2, r3]\n",
    "        ]\n",
    "\n",
    "        self.A = [                      # Lehetséges cselekvések halmaza\n",
    "            [0, 1, 2],                  # s0 --> s0, s1, s2, s3\n",
    "            [0, 1, 2],                  # s1 --> s0, s1, s2, s3\n",
    "            [0, 1, 2],                  # s2 --> s0, s1, s2, s3\n",
    "            [None]                      # s2 --> None\n",
    "        ]\n",
    "\n",
    "        self.s0 = 0  # Kezdőállapot\n",
    "        self.sT = 3  # Terminális (vég) állapot\n",
    "        self.s = self.s0  # Aktuális állapot kezdőállapotra állítása\n",
    "        self.ST = [x for x in range(len(self.p_s_a))]  # Állapotok halmaza beleértve a teminális állapotot (sT) \n",
    "        self.S = [x for x in range(len(self.p_s_a)) if x != self.sT]  # Állapotok halmaza nem beleértve a terminális állapotot\n",
    "        self.n_ST = len(self.ST)  # Állapotok száma beleértve a terminális állapotot\n",
    "        self.n_S = len(self.S)  # Állapotok száma nem beleértve a terminális állapotot\n",
    "        self.n_A = max([len(x) for x in self.A])  # Cselekvések száma\n",
    "        \n",
    "    def reset(self):  # Környezeti változók visszaállítása\n",
    "        self.s = self.s0\n",
    "\n",
    "    def step(self, s, a):  # Egy lépés a környezetben\n",
    "        sp = np.random.choice(self.ST, p=self.p_s_a[s][a])  # Következő állapot\n",
    "        r = self.R[s][a][sp]\n",
    "        return r, sp\n",
    "\n",
    "\n",
    "def generate_episode(env, s, a, policy):\n",
    "    max_step = 100\n",
    "    states  = []\n",
    "    actions = []\n",
    "    rewards = []\n",
    "\n",
    "    for _ in range(max_step):\n",
    "        a = policy[s]\n",
    "        r, sp = env.step(s, a)\n",
    "        states.append(s)\n",
    "        actions.append(a)\n",
    "        rewards.append(r)\n",
    "        s = sp\n",
    "        if s == env.sT:\n",
    "            break\n",
    "\n",
    "    return states, actions, rewards"
   ]
  },
  {
   "cell_type": "markdown",
   "metadata": {},
   "source": [
    "---\n",
    "## Monte Carlo becslés\n",
    "### Politika kiértékelés\n",
    "<img src=\"mc_policy_eval.png\" alt=\"MC politika kiértékelés\" width=1000>"
   ]
  },
  {
   "cell_type": "code",
   "execution_count": 3,
   "metadata": {},
   "outputs": [],
   "source": [
    "def MC_policy_eval(env, policy, max_i, gamma):\n",
    "    V = [np.random.random() for _ in env.S]\n",
    "    Hozam = [[] for _ in env.S]\n",
    "\n",
    "    for i in range(max_i):\n",
    "        s0 = np.random.choice(env.n_S)  # Kezdőállapot felvétele\n",
    "        a0 = np.random.choice(env.n_A)  # Kezdőcselekvés felvétele\n",
    "        states, actions, rewards = generate_episode(env, s0, a0, policy)  # Epizód lejátszása s0, a0 kezdettel\n",
    "        G = 0  # Epizodikus hozam\n",
    "\n",
    "        for t in range(len(states) - 2, 0, -1):  # Iteráció visszafelé az epizód időlépésein\n",
    "            G = gamma * G + rewards[t + 1]  # Jutalom diszkontálása és kumulálása\n",
    "            if (states[t], actions[t]) not in list(zip(states, actions))[0:t-1]:\n",
    "                Hozam[states[t]].append(G)  # Epizodikus hozam hozzáfűzése a kumulált hozamhoz\n",
    "                V[states[t]] = np.mean(Hozam[states[t]])  # Átlag számítása az állapot-értékhez\n",
    "\n",
    "    return V"
   ]
  },
  {
   "cell_type": "markdown",
   "metadata": {},
   "source": [
    "### Politika javítás\n",
    "<img src=\"mc_policy_improve.png\" alt=\"MC politika javítás\" width=1000>"
   ]
  },
  {
   "cell_type": "code",
   "execution_count": 4,
   "metadata": {},
   "outputs": [
    {
     "name": "stdout",
     "output_type": "stream",
     "text": [
      "{0: 2, 1: 0, 2: 1}\n"
     ]
    }
   ],
   "source": [
    "max_i = 500  # Iterációk száma\n",
    "gamma = 0.98  # Diszkontálási faktor\n",
    "env = Environment()  # Környezet inicializálása\n",
    "policy = {s: np.random.choice(env.A[s]) for s in env.S}  # Véletlenszerű politika\n",
    "Q = np.random.random(size=(env.n_S, env.n_A))  # Q-tábla inicializálása\n",
    "Hozam = [[[] for _ in range(env.n_A)] for _ in range(env.n_S)]  # Hozamok inicializálása üres listaként\n",
    "V_tracks = []  # Értékfüggvények követése ábrázoláshoz\n",
    "V_means = []  # # Értékfüggvények átlagának követése ábrázoláshoz\n",
    "\n",
    "for i in range(max_i):\n",
    "    s0 = np.random.choice(env.n_S)  # Kezdőállapot felévetele\n",
    "    a0 = np.random.choice(env.n_A)  # Kezdőcselekvés felévetele\n",
    "    states, actions, rewards = generate_episode(env, s0, a0, policy)  # Epizód lejátszása s0, a0, kezdő konfigurációval\n",
    "    G = 0\n",
    "\n",
    "    for t in range(len(states) - 2, 0, -1):  # Iteráció az epizódon fordított sorrendben\n",
    "        G = gamma * G + rewards[t + 1]  # Hozam diszkontálása és kumulálása\n",
    "\n",
    "        if (states[t], actions[t]) not in list(zip(states, actions))[0:t-1]:  \n",
    "            Hozam[states[t]][actions[t]].append(G)  # Epizodikus hozam hozzáfűzése az összes hozamhoz\n",
    "            Q[states[t]][actions[t]] = np.mean(Hozam[states[t]][actions[t]])  # Q-tábla frissítése a hozamok átlagával\n",
    "            policy[states[t]] = np.argmax(Q[states[t]])  # Politika javítása az új Q-érték szerint\n",
    "    \n",
    "    V = MC_policy_eval(env, policy, 100, gamma)  # Politika kiértékelése az állapot-érték megbecslésével\n",
    "    V_tracks.append(V)  # Állapot-érték vektor hozzáfűzése a követési struktúrához\n",
    "    V_means.append(np.mean(np.array(V_tracks), axis=0))  # Állapot-érték átlagának hozzáfűzése a követési struktúrához\n",
    "\n",
    "print(policy)"
   ]
  },
  {
   "cell_type": "code",
   "execution_count": 5,
   "metadata": {},
   "outputs": [
    {
     "data": {
      "image/png": "[encoded data removed]",
      "text/plain": [
       "<Figure size 360x360 with 1 Axes>"
      ]
     },
     "metadata": {
      "needs_background": "light"
     },
     "output_type": "display_data"
    }
   ],
   "source": [
    "plt.figure(figsize=(5,5))\n",
    "plt.plot(V_means, label=['$s_0$', '$s_1$', '$s_2$'])\n",
    "plt.legend(loc='lower right')\n",
    "plt.xlabel('Időlépés')\n",
    "plt.ylabel('$V(s)$')\n",
    "plt.show()"
   ]
  },
  {
   "cell_type": "code",
   "execution_count": 6,
   "metadata": {},
   "outputs": [
    {
     "data": {
      "image/png": "[encoded data removed]",
      "text/plain": [
       "<Figure size 360x360 with 2 Axes>"
      ]
     },
     "metadata": {
      "needs_background": "light"
     },
     "output_type": "display_data"
    }
   ],
   "source": [
    "plt.figure(figsize=(5, 5))\n",
    "plt.title(\"$Q$-tábla\")\n",
    "sns.heatmap(Q)\n",
    "plt.xlabel(\"Cselekvés\")\n",
    "plt.ylabel(\"Állapot\")\n",
    "plt.show()"
   ]
  },
  {
   "cell_type": "markdown",
   "metadata": {},
   "source": [
    "---\n",
    "## Időbeli különbségek"
   ]
  },
  {
   "cell_type": "markdown",
   "metadata": {},
   "source": [
    "### Politika kiértékelés\n",
    "<img src=\"td_policy_eval.png\" alt=\"TD politika kiértékelés\" width=1000>"
   ]
  },
  {
   "cell_type": "code",
   "execution_count": 7,
   "metadata": {},
   "outputs": [],
   "source": [
    "def TD_policy_eval(env, policy, max_i, gamma, alpha):\n",
    "    V = [np.random.random() for _ in env.ST]  # Állapot-érték vektor inicializálása véletlen értékekkel\n",
    "    V[env.sT] = 0  # Terminális állapot értékének 0-ra állítása\n",
    "\n",
    "    for i in range(max_i):\n",
    "        s = env.s0  # Aktuális állapot állítása a kezdőállapotra\n",
    "\n",
    "        for t in range(max_i):\n",
    "            a = policy[s]  # Cselekvés választása a politika szerint\n",
    "            r, sp = env.step(s, a)  # Cselekvés a környezetben, jutalom és következő állapot megfigyelése\n",
    "            V[s] = V[s] + alpha * (r + gamma * V[sp] - V[s])  # Állapot-érték függvény frissítése a TD definíció szerint\n",
    "            s = sp  # Aktuális állapot frissítése\n",
    "            if s == env.sT:  # Ha az ügynök elérte a terminális állapotot, kilépés\n",
    "                break\n",
    "    \n",
    "    return V"
   ]
  },
  {
   "cell_type": "markdown",
   "metadata": {},
   "source": [
    "### Politika javítás\n",
    "\n",
    "<img src=\"td_policy_improve.png\" alt=\"TD politika javítás\" width=1000>"
   ]
  },
  {
   "cell_type": "code",
   "execution_count": 8,
   "metadata": {},
   "outputs": [
    {
     "name": "stdout",
     "output_type": "stream",
     "text": [
      "{0: 2, 1: 0, 2: 1, 3: 0}\n"
     ]
    }
   ],
   "source": [
    "max_i = 500\n",
    "gamma = 0.98\n",
    "alpha = 0.1  # Tanulási sebesség\n",
    "env = Environment()\n",
    "policy = {s: np.random.choice(env.A[s]) for s in env.ST}\n",
    "policy[env.sT] = 0\n",
    "Q = np.random.random(size=(env.n_ST, env.n_A))  # Környezet inicializálása\n",
    "Q[env.sT, :] = 0  # Terminális állapotból elérhető cselekvések értékének 0-ra állítása\n",
    "V_tracks = []  # Követési struktúra az állapot-értékeknek\n",
    "V_means = []  # Követési struktúra az átlagos állapot-értékeknek\n",
    "\n",
    "for i in range(max_i):\n",
    "    s = env.s0  # Aktuális állapot kezdőállapotra állítása\n",
    "    a = policy[s]  # Cselekvés választása a politika szerint\n",
    "\n",
    "    for t in range(max_i):\n",
    "        if s == env.sT:  # Ha az ügynök elérte a terminális állapotot, kilépés\n",
    "            break\n",
    "        r, sp = env.step(s, a)  # Cselekvés végrehajtása a környezetben, jutalom és következő állapot megfigyelése\n",
    "        ap = policy[sp]  # Következő cselekvés kiválasztása a következő állapotból a politika szerint\n",
    "        Q[s][a] = Q[s][a] + alpha * (r + gamma * Q[sp][ap] - Q[s][a])  # Q-tábla frissítése a TD frisssítési szabály szerint\n",
    "        policy[s] = np.argmax(Q[s])  # Politika frissítése a Q-tábla alapján\n",
    "        s = sp  # Aktuális állapot következő állapotra állítása\n",
    "        a = ap  # Aktuális cselekvés következő cselekvésre állítása\n",
    "\n",
    "    V = TD_policy_eval(env, policy, 100, gamma, alpha)  # Értékfüggvény kiszámítása az aktuális politikával\n",
    "    V_tracks.append(V)  # Állapot-érték vektor hozzáfűzése a követési struktúrához\n",
    "    V_means.append(np.mean(np.array(V_tracks), axis=0))  # Átlagos állapot-érték kiszámítása \n",
    "\n",
    "print(policy)  # Politika (a terminális állapottal együtt - ez mindenképp 0 lesz)"
   ]
  },
  {
   "cell_type": "code",
   "execution_count": 9,
   "metadata": {},
   "outputs": [
    {
     "data": {
      "image/png": "[encoded data removed]",
      "text/plain": [
       "<Figure size 360x360 with 1 Axes>"
      ]
     },
     "metadata": {
      "needs_background": "light"
     },
     "output_type": "display_data"
    }
   ],
   "source": [
    "V_means = [arr[:-1] for arr in V_means]\n",
    "plt.figure(figsize=(5,5))\n",
    "plt.plot(V_means, label=['$s_0$', '$s_1$', '$s_2$'])\n",
    "plt.legend()\n",
    "plt.xlabel('Időlépés')\n",
    "plt.ylabel('$V(s)$')\n",
    "plt.show()"
   ]
  },
  {
   "cell_type": "code",
   "execution_count": 10,
   "metadata": {},
   "outputs": [
    {
     "data": {
      "image/png": "[encoded data removed]",
      "text/plain": [
       "<Figure size 360x360 with 2 Axes>"
      ]
     },
     "metadata": {
      "needs_background": "light"
     },
     "output_type": "display_data"
    }
   ],
   "source": [
    "plt.figure(figsize=(5, 5))\n",
    "plt.title(\"$Q$-tábla\")\n",
    "sns.heatmap(Q)\n",
    "plt.xlabel(\"Cselekvés\")\n",
    "plt.ylabel(\"Állapot\")\n",
    "plt.show()"
   ]
  },
  {
   "cell_type": "code",
   "execution_count": null,
   "metadata": {},
   "outputs": [],
   "source": []
  }
 ],
 "metadata": {
  "kernelspec": {
   "display_name": "base",
   "language": "python",
   "name": "python3"
  },
  "language_info": {
   "codemirror_mode": {
    "name": "ipython",
    "version": 3
   },
   "file_extension": ".py",
   "mimetype": "text/x-python",
   "name": "python",
   "nbconvert_exporter": "python",
   "pygments_lexer": "ipython3",
   "version": "3.9.12"
  },
  "orig_nbformat": 4
 },
 "nbformat": 4,
 "nbformat_minor": 2
}
