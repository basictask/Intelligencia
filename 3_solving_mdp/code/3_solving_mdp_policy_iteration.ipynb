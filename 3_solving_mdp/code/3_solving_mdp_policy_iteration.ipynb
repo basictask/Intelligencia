{
 "cells": [
  {
   "cell_type": "markdown",
   "metadata": {},
   "source": [
    "# 3. Gyakorlat: Politika iteráció"
   ]
  },
  {
   "cell_type": "code",
   "execution_count": 149,
   "metadata": {},
   "outputs": [],
   "source": [
    "import numpy as np\n",
    "import matplotlib.pyplot as plt"
   ]
  },
  {
   "cell_type": "markdown",
   "metadata": {},
   "source": [
    "## Környezet definiálása\n",
    "A környezet egy 3 állapotos Markov döntési folyamat, sűrű jutalmakkal. Minden állapotból lehetséges eljutni az összes többibe, ezáltal egy jóval nagyobb cselekvési teret kell az ügynöknek megtanulnia. "
   ]
  },
  {
   "cell_type": "code",
   "execution_count": 150,
   "metadata": {},
   "outputs": [],
   "source": [
    "class Environment():\n",
    "    def __init__(self):\n",
    "        self.p_s_a = [  # Állapotátmeneti valószínűségek (környezeti dinamika) [s, a, s']\n",
    "            [[0.7, 0.3, 0.0],   # s0 --> a0 --> [s0, s1, s2]\n",
    "             [1.0, 0.0, 0.0],   # s0 --> a1 --> [s0, s1, s2]\n",
    "             [0.8, 0.2, 0.0]],  # s0 --> a2 --> [s0, s1, s2]\n",
    "            [[0.0, 1.0, 0.0],   # s1 --> a0 --> [s0, s1, s2]\n",
    "             [0.3, 0.1, 0.6],   # s1 --> a1 --> [s0, s1, s2]\n",
    "             [0.0, 0.0, 1.0]],  # s1 --> a2 --> [s0, s1, s2]\n",
    "            [[0.1, 0.9, 0.0],   # s2 --> a0 --> [s0, s1, s2]\n",
    "             [0.8, 0.1, 0.1],   # s2 --> a1 --> [s0, s1, s2]\n",
    "             [0.7, 0.0, 0.3]]   # s2 --> a2 --> [s0, s1, s2]\n",
    "        ]\n",
    "\n",
    "        self.R = [              # Jutalmak [s, a, s']\n",
    "            [[10, 0, 0],        # s0 --> a0 --> [r0, r1, r2]\n",
    "             [0, 0, 4],         # s0 --> a1 --> [r0, r1, r2]\n",
    "             [0, -1, 0]],       # s0 --> a2 --> [r0, r1, r2]\n",
    "            [[12, 0, 0],        # s1 --> a0 --> [r0, r1, r2]\n",
    "             [10, 0, -2],       # s1 --> a1 --> [r0, r1, r2]\n",
    "             [0, 0, -50]],      # s1 --> a2 --> [r0, r1, r2]\n",
    "            [[-20, 0, 1],       # s2 --> a0 --> [r0, r1, r2]\n",
    "             [40, 0, 0],        # s2 --> a1 --> [r0, r1, r2]\n",
    "             [0, 0, 20]],       # s2 --> a2 --> [r0, r1, r2]\n",
    "        ]\n",
    "\n",
    "        self.A = [              # Lehetséges cselekvések halmaza\n",
    "            [0, 1, 2],          # s0 --> s0, s1, s2\n",
    "            [0, 1, 2],          # s1 --> s0, s2\n",
    "            [0, 1, 2]           # s2 --> s1\n",
    "        ]\n",
    "\n",
    "        self.s0 = 0\n",
    "        self.s = self.s0\n",
    "        self.n_s = len(self.p_s_a)  # Állapotok száma\n",
    "        self.n_a = max([len(x) for x in self.A])  # Cselekvések száma\n",
    "\n",
    "    def reset(self):\n",
    "        self.s = self.s0\n",
    "\n",
    "    def step(self, s, a):\n",
    "        sp = np.random.choice(range(self.n_s), p=self.p_s_a[s][a])\n",
    "        r = self.R[s][a][sp]\n",
    "        return r, sp"
   ]
  },
  {
   "cell_type": "markdown",
   "metadata": {},
   "source": [
    "## Politika kiértékelése\n",
    "\n",
    "<img src=policy-evaluation.png alt=\"Politika kiértékelése\" width=\"900\">"
   ]
  },
  {
   "cell_type": "code",
   "execution_count": 151,
   "metadata": {},
   "outputs": [],
   "source": [
    "def policy_evaluation(env, policy, V, gamma, tol):\n",
    "    while True:\n",
    "        delta = 0  # Változás mértéke\n",
    "        for s in range(env.n_s):\n",
    "            if env.A[s] is None:\n",
    "                continue\n",
    "            v = V[s]\n",
    "            V[s] = sum(env.p_s_a[s][policy[s]][sp] * (env.R[s][policy[s]][sp] + gamma * V[sp]) for sp in env.A[s])  # V(s) kiszámítása\n",
    "            delta = max(delta, abs(v - V[s]))\n",
    "\n",
    "        if delta < tol:  # Ha a változás kisebb mint a küszöb, az algoritmus konvergált\n",
    "            break\n",
    "        \n",
    "    return V"
   ]
  },
  {
   "cell_type": "markdown",
   "metadata": {},
   "source": [
    "## Politika javítása\n",
    "\n",
    "<img src=policy-improvement.png alt=\"Politika javítása\" width=\"900\">"
   ]
  },
  {
   "cell_type": "code",
   "execution_count": 152,
   "metadata": {},
   "outputs": [],
   "source": [
    "def policy_improvement(env, policy, V, gamma):\n",
    "    policy_stable = True\n",
    "    for s in range(env.n_s):\n",
    "        if env.A[s] is None:\n",
    "            continue\n",
    "        \n",
    "        old_action = policy[s]\n",
    "        policy[s] = np.argmax([sum(env.p_s_a[s][a][sp] * (env.R[s][a][sp] + gamma * V[sp]) for sp in range(env.n_s)) for a in env.A[s]])  # Optimális cselekvés\n",
    "\n",
    "        if old_action != policy[s]:  # Ha van változás a politikában, a politika instabil\n",
    "            policy_stable = False\n",
    "\n",
    "    return policy"
   ]
  },
  {
   "cell_type": "markdown",
   "metadata": {},
   "source": [
    "## Iteratív kiértékelés-javítás"
   ]
  },
  {
   "cell_type": "code",
   "execution_count": 153,
   "metadata": {},
   "outputs": [],
   "source": [
    "def policy_iteration(env, gamma=0.9, tol=1e-6):\n",
    "    # Initialize policy and value function\n",
    "    V_hist = []\n",
    "    V = np.zeros(env.n_s)\n",
    "    V_old = np.zeros(env.n_s)\n",
    "    policy = np.zeros(env.n_s, dtype=int)\n",
    "\n",
    "    i = 0    \n",
    "    while True:\n",
    "        V = policy_evaluation(env, policy, V, gamma, tol)  # Politika kiértékelése\n",
    "        new_policy = policy_improvement(env, policy, V, gamma)  # Politika javítása\n",
    "        \n",
    "        policy = new_policy\n",
    "        i += 1\n",
    "        if np.sum(np.abs(V_old - V)) < tol:\n",
    "            print(f'Konvergált {i} iteráicó alatt')\n",
    "            break\n",
    "        \n",
    "        V_hist.append(V_old)\n",
    "        V_old = V.copy()\n",
    "    \n",
    "    return policy, V, V_hist"
   ]
  },
  {
   "cell_type": "code",
   "execution_count": 154,
   "metadata": {},
   "outputs": [
    {
     "name": "stdout",
     "output_type": "stream",
     "text": [
      "Konvergált 10 iteráicó alatt\n",
      "Optimális politika: [0 1 1]\n",
      "Optimális értékfüggvény: [ 90.21656469  97.70418231 116.20802523]\n"
     ]
    }
   ],
   "source": [
    "env = Environment()\n",
    "optimal_policy, optimal_value, V_hist = policy_iteration(env)\n",
    "print(\"Optimális politika:\", optimal_policy)\n",
    "print(\"Optimális értékfüggvény:\", optimal_value)"
   ]
  },
  {
   "cell_type": "code",
   "execution_count": 155,
   "metadata": {},
   "outputs": [
    {
     "data": {
      "image/png": "[encoded data removed]",
      "text/plain": [
       "<Figure size 640x480 with 1 Axes>"
      ]
     },
     "metadata": {},
     "output_type": "display_data"
    }
   ],
   "source": [
    "fig, ax = plt.subplots()\n",
    "ax.plot(np.arange(len(V_hist)), V_hist, linestyle='-', label=['$s_0$', '$s_1$', '$s_2$'])\n",
    "ax.set_xlabel('Iteráció')\n",
    "ax.set_ylabel('V(s)')\n",
    "ax.set_title('Értékfüggvény iteratív javítása')\n",
    "ax.legend()\n",
    "plt.show()\n"
   ]
  }
 ],
 "metadata": {
  "kernelspec": {
   "display_name": "base",
   "language": "python",
   "name": "python3"
  },
  "language_info": {
   "codemirror_mode": {
    "name": "ipython",
    "version": 3
   },
   "file_extension": ".py",
   "mimetype": "text/x-python",
   "name": "python",
   "nbconvert_exporter": "python",
   "pygments_lexer": "ipython3",
   "version": "3.11.4"
  },
  "orig_nbformat": 4
 },
 "nbformat": 4,
 "nbformat_minor": 2
}
